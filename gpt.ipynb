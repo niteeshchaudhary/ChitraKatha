{
 "cells": [
  {
   "cell_type": "code",
   "execution_count": 1,
   "metadata": {},
   "outputs": [
    {
     "name": "stderr",
     "output_type": "stream",
     "text": [
      "/home/nkc/Documents/GitHub/StoryTellerHackathone/venv/lib/python3.11/site-packages/tqdm/auto.py:21: TqdmWarning: IProgress not found. Please update jupyter and ipywidgets. See https://ipywidgets.readthedocs.io/en/stable/user_install.html\n",
      "  from .autonotebook import tqdm as notebook_tqdm\n"
     ]
    }
   ],
   "source": [
    "from transformers import pipeline, set_seed\n",
    "generator = pipeline('text-generation', model='gpt2-large')\n",
    "set_seed(42)\n",
    "# generator(prompt, max_length=500, num_return_sequences=5)"
   ]
  },
  {
   "cell_type": "code",
   "execution_count": 7,
   "metadata": {},
   "outputs": [],
   "source": [
    "prompt=\"A boy was standing on station. He was waiting for his train. Suddenly, \""
   ]
  },
  {
   "cell_type": "code",
   "execution_count": 8,
   "metadata": {},
   "outputs": [
    {
     "name": "stderr",
     "output_type": "stream",
     "text": [
      "Setting `pad_token_id` to `eos_token_id`:50256 for open-end generation.\n"
     ]
    },
    {
     "data": {
      "text/plain": [
       "\"he door closed behind him. I know exactly where he is. And now in the corridor of the station.\\nI feel bad for the boy. He's probably really mad because the door closed behind him, when it should've opened again. So he will probably sit until his train goes to its destination.\\nHis train could be at a train station in the suburbs.\\nHow does that make you feel?\\xa0\\nI could make a video of this.\""
      ]
     },
     "execution_count": 8,
     "metadata": {},
     "output_type": "execute_result"
    }
   ],
   "source": [
    "story = generator(\n",
    "    prompt,\n",
    "    max_length=500,\n",
    ")[0]['generated_text'][len(prompt)+2:]\n",
    "story"
   ]
  },
  {
   "cell_type": "code",
   "execution_count": 16,
   "metadata": {},
   "outputs": [
    {
     "data": {
      "text/plain": [
       "\"eng's face, the most common place you'll find in movies.\\n\\n7. You may need more money than he does. You may need more clothes than he does. Maybe he was a man with no family and you are the only one left who knows how to feed and house him.\\n\\n8. If you take your wife for dinner at night, you may have to cut her hair short.\\n\\n9. And then you won't see her for three months or so.\\n\\n10. The man you marry is an act of love and commitment. People need to feel that every time they kiss or hug or hold hands with him.\\n\\n11. Your wife does not make a good mother.\\n\\n12. You can only hope that you have a good father to replace him when he is gone.\\n\\n13. There may be lots of new blood courting you from the outside, but once you grow old with him there's no escaping the fact that you're dead. You can tell him he's dead by looking at him; by sitting at your feet, you feel free by him.\\n\\n14. The man you marry is a new kind of relationship and there are lots of things he cannot teach you. You are too old and too much wiser to talk about anything.\\n\\n15. You have less money than you did before you got married, but it seems so far away compared with the years to come.\\n\\n16. You may have spent so much money in trying to please your wife that you don't realize all she has been through.\\n\\n17. Most of what she had always said about you just doesn't ring true.\\n\\n17. Your wife may come back to you and tell you at least one thing.\\n\\n17. But at those points, when you are ready to accept it, you won't know the difference between what she is telling you and what she feels.\\n\\n18. People who get married love each other in their own way even if all of them love her to bits.\\n\\n19. You are more aware of what hurts her than you used to be. You will always know to let her know when you hate her, and then even better, not even know what to say when you realize that it's not really in your best interest.\\n\\n20. Your husband may be better loved than you are. That's perfectly rational\""
      ]
     },
     "execution_count": 16,
     "metadata": {},
     "output_type": "execute_result"
    }
   ],
   "source": [
    "story"
   ]
  }
 ],
 "metadata": {
  "kernelspec": {
   "display_name": "venv",
   "language": "python",
   "name": "python3"
  },
  "language_info": {
   "codemirror_mode": {
    "name": "ipython",
    "version": 3
   },
   "file_extension": ".py",
   "mimetype": "text/x-python",
   "name": "python",
   "nbconvert_exporter": "python",
   "pygments_lexer": "ipython3",
   "version": "3.11.4"
  }
 },
 "nbformat": 4,
 "nbformat_minor": 2
}
